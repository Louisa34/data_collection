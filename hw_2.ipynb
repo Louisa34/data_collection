{
 "cells": [
  {
   "cell_type": "code",
   "execution_count": 69,
   "id": "7cd3fcf8",
   "metadata": {},
   "outputs": [],
   "source": [
    "import requests\n",
    "from lxml import html\n",
    "import json"
   ]
  },
  {
   "cell_type": "code",
   "execution_count": 27,
   "id": "4018d3ad",
   "metadata": {},
   "outputs": [],
   "source": [
    "url = 'https://news.mail.ru/politics/'\n",
    "headers = {\n",
    "    'User-Agent': 'Mozilla/5.0 (Windows NT 10.0; Win64; x64) AppleWebKit/537.36 (KHTML, like Gecko) Chrome/110.0.0.0 Safari/537.36',\n",
    "}"
   ]
  },
  {
   "cell_type": "code",
   "execution_count": 28,
   "id": "76c0f03a",
   "metadata": {},
   "outputs": [],
   "source": [
    "response = requests.get(url, headers, timeout=30)"
   ]
  },
  {
   "cell_type": "code",
   "execution_count": 30,
   "id": "ed0c8aa9",
   "metadata": {},
   "outputs": [],
   "source": [
    "dom = html.fromstring(response.text)"
   ]
  },
  {
   "cell_type": "code",
   "execution_count": 52,
   "id": "22fc7889",
   "metadata": {},
   "outputs": [],
   "source": [
    "all_news = dom.xpath(\"//div[contains(@class, 'newsitem newsitem_height_fixed js-ago-wrapper')]\")"
   ]
  },
  {
   "cell_type": "code",
   "execution_count": 53,
   "id": "5450b3c5",
   "metadata": {},
   "outputs": [
    {
     "data": {
      "text/plain": [
       "21"
      ]
     },
     "execution_count": 53,
     "metadata": {},
     "output_type": "execute_result"
    }
   ],
   "source": [
    "len(all_news)"
   ]
  },
  {
   "cell_type": "code",
   "execution_count": 73,
   "id": "0e281d61",
   "metadata": {},
   "outputs": [],
   "source": [
    "news_dict = {}\n",
    "for news in all_news:\n",
    "    news_name = news.xpath(\"./span/a[contains(@class, 'newsitem__title')]/span/text()\")[0]\n",
    "    link_to_news = news.xpath(\"./span/a[contains(@class, 'newsitem__title')]/@href\")[0]\n",
    "    source_name = news.xpath(\"./div/span[@class = 'newsitem__param']/text()\")[0]\n",
    "    pub_data = news.xpath(\"./div/span[@class = 'newsitem__param js-ago']/text()\")[0]\n",
    "    news_dict[news_name] = {\n",
    "        'link' : link_to_news,\n",
    "        'source' : source_name,\n",
    "        'Data' : pub_data,\n",
    "        \n",
    "    }"
   ]
  },
  {
   "cell_type": "code",
   "execution_count": 74,
   "id": "76c736d7",
   "metadata": {},
   "outputs": [
    {
     "data": {
      "text/plain": [
       "{'Рустам Минниханов: «Несмотря на сложности, завершили год с положительными результатами»': {'link': 'https://news.mail.ru/politics/55186701/',\n",
       "  'source': 'Реальное время',\n",
       "  'Data': '11:51 (мск)'},\n",
       " 'Британия ввела санкции против 92 физических и юридических лиц РФ': {'link': 'https://news.mail.ru/politics/55186455/',\n",
       "  'source': 'Российская газета',\n",
       "  'Data': '11:01 (мск)'},\n",
       " 'Путин предложил 40 россиянам войти в состав Общественной палаты': {'link': 'https://news.mail.ru/politics/55186133/',\n",
       "  'source': 'Коммерсантъ',\n",
       "  'Data': '10:49 (мск)'},\n",
       " 'Боррель заявил о нежелании ЕС «разрушения» России': {'link': 'https://news.mail.ru/politics/55185816/',\n",
       "  'source': 'ТАСС',\n",
       "  'Data': '10:02 (мск)'},\n",
       " 'МИД КНДР заявил, что продолжение провокаций США может быть расценено как объявление войны': {'link': 'https://news.mail.ru/politics/55184626/',\n",
       "  'source': 'ТАСС',\n",
       "  'Data': '09:00 (мск)'},\n",
       " 'Владимир Мединский не подтверждает возобновление переговоров по Украине': {'link': 'https://news.mail.ru/politics/55185289/',\n",
       "  'source': 'Коммерсантъ',\n",
       "  'Data': '08:38 (мск)'},\n",
       " 'Белый дом оценил готовность ядерных сил России': {'link': 'https://news.mail.ru/politics/55184408/',\n",
       "  'source': '© РИА Новости',\n",
       "  'Data': '07:25 (мск)'},\n",
       " 'Танки Abrams бесполезны на Украине, заявили в Белом доме США': {'link': 'https://news.mail.ru/politics/55184511/',\n",
       "  'source': '© РИА Новости',\n",
       "  'Data': '06:53 (мск)'},\n",
       " 'Глава Минобороны ФРГ заявил об отсутствии «красной линии» в вопросе оказания помощи Киеву': {'link': 'https://news.mail.ru/politics/55183946/',\n",
       "  'source': 'Газета.Ру',\n",
       "  'Data': '05:24 (мск)'},\n",
       " 'Китай представил план по урегулированию конфликта на Украине': {'link': 'https://news.mail.ru/politics/55184241/',\n",
       "  'source': 'Коммерсантъ',\n",
       "  'Data': '04:38 (мск)'},\n",
       " 'Обращение Путина к россиянам 24 февраля не планируется, заявил Песков': {'link': 'https://news.mail.ru/politics/55184058/',\n",
       "  'source': '© РИА Новости',\n",
       "  'Data': '03:26 (мск)'},\n",
       " 'В Пентагоне назвали сроки поставки Украине танков Abrams': {'link': 'https://news.mail.ru/politics/55183356/',\n",
       "  'source': 'РБК',\n",
       "  'Data': '03:01 (мск)'},\n",
       " 'Шольц заявил о намерении продолжать искать диалог с Путиным': {'link': 'https://news.mail.ru/politics/55183843/',\n",
       "  'source': 'ТАСС',\n",
       "  'Data': '02:09 (мск)'},\n",
       " 'В США назвали условие для переговоров по Украине': {'link': 'https://news.mail.ru/politics/55183449/',\n",
       "  'source': 'Lenta.Ru',\n",
       "  'Data': '01:47 (мск)'},\n",
       " 'Генассамблея ООН приняла антироссийскую резолюцию по Украине': {'link': 'https://news.mail.ru/politics/55183438/',\n",
       "  'source': 'ТАСС',\n",
       "  'Data': '00:06 (мск)'},\n",
       " 'Минобороны РФ предупредило об адекватном ответе на провокацию Украины в Приднестровье': {'link': 'https://news.mail.ru/politics/55183426/',\n",
       "  'source': 'ТАСС',\n",
       "  'Data': '23 февраля'},\n",
       " 'Журналист Херш рассказал, как США объяснили подрыв «Северных потоков»': {'link': 'https://news.mail.ru/politics/55183303/',\n",
       "  'source': '© РИА Новости',\n",
       "  'Data': '23 февраля'},\n",
       " 'В Польше начали устанавливать противотанковые ежи на границе с Россией': {'link': 'https://news.mail.ru/politics/55182740/',\n",
       "  'source': 'РБК',\n",
       "  'Data': '23 февраля'},\n",
       " 'Небензя заявил об отсутствии отношений России и ЕС': {'link': 'https://news.mail.ru/politics/55182172/',\n",
       "  'source': 'Ведомости',\n",
       "  'Data': '23 февраля'},\n",
       " 'Джонсон заявил об амбициях на должность генсека НАТО': {'link': 'https://news.mail.ru/politics/55182575/',\n",
       "  'source': 'РБК',\n",
       "  'Data': '23 февраля'},\n",
       " 'Небензя: ЕС «проглотил» подрыв «Северных потоков», чтобы не вызвать недовольство США': {'link': 'https://news.mail.ru/politics/55182074/',\n",
       "  'source': 'ТАСС',\n",
       "  'Data': '23 февраля'}}"
      ]
     },
     "execution_count": 74,
     "metadata": {},
     "output_type": "execute_result"
    }
   ],
   "source": [
    "news_dict"
   ]
  }
 ],
 "metadata": {
  "kernelspec": {
   "display_name": "Python 3 (ipykernel)",
   "language": "python",
   "name": "python3"
  },
  "language_info": {
   "codemirror_mode": {
    "name": "ipython",
    "version": 3
   },
   "file_extension": ".py",
   "mimetype": "text/x-python",
   "name": "python",
   "nbconvert_exporter": "python",
   "pygments_lexer": "ipython3",
   "version": "3.9.12"
  }
 },
 "nbformat": 4,
 "nbformat_minor": 5
}
