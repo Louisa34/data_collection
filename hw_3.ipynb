{
 "cells": [
  {
   "cell_type": "code",
   "execution_count": 141,
   "id": "811fc6d0",
   "metadata": {},
   "outputs": [],
   "source": [
    "import requests\n",
    "from bs4 import BeautifulSoup as bs\n",
    "import json"
   ]
  },
  {
   "cell_type": "code",
   "execution_count": 32,
   "id": "b447b558",
   "metadata": {},
   "outputs": [
    {
     "name": "stdout",
     "output_type": "stream",
     "text": [
      "Write your job of interest:python разработчик\n"
     ]
    }
   ],
   "source": [
    "job_of_interest = input('Write your job of interest:')"
   ]
  },
  {
   "cell_type": "code",
   "execution_count": 137,
   "id": "397a4317",
   "metadata": {},
   "outputs": [
    {
     "name": "stdout",
     "output_type": "stream",
     "text": [
      "Write count for pages:4\n"
     ]
    }
   ],
   "source": [
    "number_page = int(input('Write count for pages:'))"
   ]
  },
  {
   "cell_type": "code",
   "execution_count": 139,
   "id": "bea07879",
   "metadata": {},
   "outputs": [],
   "source": [
    "def define_salary(str_salary):   \n",
    "    if len(str_salary.split()) == 4:\n",
    "        min_salary = int(str_salary.split()[0])\n",
    "        max_salary = int(str_salary.split()[2])\n",
    "        currency_salary = str_salary.split()[3]\n",
    "    else:\n",
    "        if str_salary.split()[0] == 'от':\n",
    "            min_salary = int(str_salary.split()[1])\n",
    "            max_salary = '-'\n",
    "            currency_salary = str_salary.split()[2]  \n",
    "        else:\n",
    "            min_salary = '-'\n",
    "            max_salary = int(str_salary.split()[1])\n",
    "            currency_salary = str_salary.split()[2]\n",
    "            \n",
    "    return min_salary, max_salary, currency_salary"
   ]
  },
  {
   "cell_type": "code",
   "execution_count": 148,
   "id": "28886f12",
   "metadata": {},
   "outputs": [
    {
     "name": "stdout",
     "output_type": "stream",
     "text": [
      "18\n"
     ]
    },
    {
     "data": {
      "text/plain": [
       "{'Python разработчик': {'link': 'https://kazan.hh.ru/vacancy/77324208?from=vacancy_search_list&query=python+%D1%80%D0%B0%D0%B7%D1%80%D0%B0%D0%B1%D0%BE%D1%82%D1%87%D0%B8%D0%BA',\n",
       "  'salary': 'З/п не указана',\n",
       "  'employer': 'WILDBERRIES'},\n",
       " 'Программист Python - FastAPI': {'link': 'https://kazan.hh.ru/vacancy/77244377?from=vacancy_search_list&query=python+%D1%80%D0%B0%D0%B7%D1%80%D0%B0%D0%B1%D0%BE%D1%82%D1%87%D0%B8%D0%BA',\n",
       "  'salary': {'min': 180000, 'max': '-', 'валюта': 'руб.'},\n",
       "  'employer': 'Digital агентство Piarme'},\n",
       " 'Разработчик Python (продукт RU DATA)': {'link': 'https://kazan.hh.ru/vacancy/77432993?from=vacancy_search_list&query=python+%D1%80%D0%B0%D0%B7%D1%80%D0%B0%D0%B1%D0%BE%D1%82%D1%87%D0%B8%D0%BA',\n",
       "  'salary': 'З/п не указана',\n",
       "  'employer': 'Интерфакс'},\n",
       " 'Python middle / middle+': {'link': 'https://kazan.hh.ru/vacancy/77512726?from=vacancy_search_list&query=python+%D1%80%D0%B0%D0%B7%D1%80%D0%B0%D0%B1%D0%BE%D1%82%D1%87%D0%B8%D0%BA',\n",
       "  'salary': {'min': 60000, 'max': 120000, 'валюта': 'руб.'},\n",
       "  'employer': 'ИП Богач Евгений Александрович'},\n",
       " 'Программист Python': {'link': 'https://kazan.hh.ru/vacancy/76785097?from=vacancy_search_list&query=python+%D1%80%D0%B0%D0%B7%D1%80%D0%B0%D0%B1%D0%BE%D1%82%D1%87%D0%B8%D0%BA',\n",
       "  'salary': {'min': '-', 'max': 240000, 'валюта': 'руб.'},\n",
       "  'employer': 'Enjoypro'},\n",
       " 'Python-разработчик (Middle/Middle+)': {'link': 'https://kazan.hh.ru/vacancy/77232338?from=vacancy_search_list&query=python+%D1%80%D0%B0%D0%B7%D1%80%D0%B0%D0%B1%D0%BE%D1%82%D1%87%D0%B8%D0%BA',\n",
       "  'salary': 'З/п не указана',\n",
       "  'employer': 'BLACKHUB GAMES'},\n",
       " 'Python Developer (middle+)': {'link': 'https://kazan.hh.ru/vacancy/77446042?from=vacancy_search_list&query=python+%D1%80%D0%B0%D0%B7%D1%80%D0%B0%D0%B1%D0%BE%D1%82%D1%87%D0%B8%D0%BA',\n",
       "  'salary': 'З/п не указана',\n",
       "  'employer': 'HiQo Solutions'},\n",
       " 'Data Scientist middle+/Senior': {'link': 'https://kazan.hh.ru/vacancy/77208642?from=vacancy_search_list&query=python+%D1%80%D0%B0%D0%B7%D1%80%D0%B0%D0%B1%D0%BE%D1%82%D1%87%D0%B8%D0%BA',\n",
       "  'salary': {'min': 250000, 'max': 350000, 'валюта': 'руб.'},\n",
       "  'employer': 'ИП Мамаева Ирина Анатольевна'},\n",
       " 'Middle Python Developer (Backend / Server side)': {'link': 'https://kazan.hh.ru/vacancy/77148120?from=vacancy_search_list&query=python+%D1%80%D0%B0%D0%B7%D1%80%D0%B0%D0%B1%D0%BE%D1%82%D1%87%D0%B8%D0%BA',\n",
       "  'salary': {'min': 140000, 'max': 220000, 'валюта': 'руб.'},\n",
       "  'employer': 'Flipper Devices'},\n",
       " 'Разработчик Python': {'link': 'https://kazan.hh.ru/vacancy/77330209?from=vacancy_search_list&query=python+%D1%80%D0%B0%D0%B7%D1%80%D0%B0%D0%B1%D0%BE%D1%82%D1%87%D0%B8%D0%BA',\n",
       "  'salary': 'З/п не указана',\n",
       "  'employer': 'Инрэко ЛАН'},\n",
       " 'Python разработчик / DevOps инженер': {'link': 'https://kazan.hh.ru/vacancy/76347722?from=vacancy_search_list&query=python+%D1%80%D0%B0%D0%B7%D1%80%D0%B0%D0%B1%D0%BE%D1%82%D1%87%D0%B8%D0%BA',\n",
       "  'salary': {'min': 150000, 'max': '-', 'валюта': 'руб.'},\n",
       "  'employer': 'SberTech'},\n",
       " 'Python developer (FastApi)': {'link': 'https://kazan.hh.ru/vacancy/76911595?from=vacancy_search_list&query=python+%D1%80%D0%B0%D0%B7%D1%80%D0%B0%D0%B1%D0%BE%D1%82%D1%87%D0%B8%D0%BA',\n",
       "  'salary': 'З/п не указана',\n",
       "  'employer': 'ООО Константа'},\n",
       " 'Python-разработчик в команду Разработки клиентских сервисов': {'link': 'https://kazan.hh.ru/vacancy/77229115?from=vacancy_search_list&query=python+%D1%80%D0%B0%D0%B7%D1%80%D0%B0%D0%B1%D0%BE%D1%82%D1%87%D0%B8%D0%BA',\n",
       "  'salary': 'З/п не указана',\n",
       "  'employer': 'Selectel'},\n",
       " 'Python разработчик платформы аналитики в Маркет': {'link': 'https://kazan.hh.ru/vacancy/77413481?from=vacancy_search_list&query=python+%D1%80%D0%B0%D0%B7%D1%80%D0%B0%D0%B1%D0%BE%D1%82%D1%87%D0%B8%D0%BA',\n",
       "  'salary': 'З/п не указана',\n",
       "  'employer': 'Яндекс'},\n",
       " 'Разработчик нейронных сетей': {'link': 'https://kazan.hh.ru/vacancy/77479779?from=vacancy_search_list&query=python+%D1%80%D0%B0%D0%B7%D1%80%D0%B0%D0%B1%D0%BE%D1%82%D1%87%D0%B8%D0%BA',\n",
       "  'salary': {'min': 60000, 'max': '-', 'валюта': 'руб.'},\n",
       "  'employer': 'ИНТЕГРА-С, Самара'},\n",
       " 'Middle Python developer': {'link': 'https://kazan.hh.ru/vacancy/75912731?from=vacancy_search_list&query=python+%D1%80%D0%B0%D0%B7%D1%80%D0%B0%D0%B1%D0%BE%D1%82%D1%87%D0%B8%D0%BA',\n",
       "  'salary': {'min': 120000, 'max': '-', 'валюта': 'руб.'},\n",
       "  'employer': 'ООО ЛИГРЕС'},\n",
       " 'ML разработчик GPT': {'link': 'https://kazan.hh.ru/vacancy/77327734?from=vacancy_search_list&query=python+%D1%80%D0%B0%D0%B7%D1%80%D0%B0%D0%B1%D0%BE%D1%82%D1%87%D0%B8%D0%BA',\n",
       "  'salary': {'min': '-', 'max': 300000, 'валюта': 'руб.'},\n",
       "  'employer': 'ООО Таргет'},\n",
       " 'Python Developer': {'link': 'https://kazan.hh.ru/vacancy/77497953?from=vacancy_search_list&query=python+%D1%80%D0%B0%D0%B7%D1%80%D0%B0%D0%B1%D0%BE%D1%82%D1%87%D0%B8%D0%BA',\n",
       "  'salary': 'З/п не указана',\n",
       "  'employer': 'Wanted'}}"
      ]
     },
     "execution_count": 148,
     "metadata": {},
     "output_type": "execute_result"
    }
   ],
   "source": [
    "url = 'https://hh.ru/search/vacancy'\n",
    "headers = {\n",
    "    'User-Agent': 'Mozilla/5.0 (Windows NT 10.0; Win64; x64) AppleWebKit/537.36 (KHTML, like Gecko) Chrome/110.0.0.0 Safari/537.36',\n",
    "}\n",
    "for i in range(0, number_page):\n",
    "    params = {'text':job_of_interest,\n",
    "              'page': i \n",
    "               }\n",
    "    response = requests.get(url, headers=headers, params=params)    \n",
    "    \n",
    "    soup = bs(response.content, 'html.parser')    \n",
    "    \n",
    "    vacancy_body = soup.find_all('div', attrs={'class':['vacancy-serp-item-body']})\n",
    "    \n",
    "    vacancy_dict = {}\n",
    "\n",
    "    for i in range(0, len(vacancy_body)):\n",
    "        vacancy_name = vacancy_body[i].find('a', attrs={'class':['serp-item__title']}).text    \n",
    "        vacancy_employer = vacancy_body[i].find('a', attrs={'class':['bloko-link bloko-link_kind-tertiary']}).text\n",
    "    \n",
    "        try:         \n",
    "            vacancy_salary = vacancy_body[i].find('span', attrs={'class':['bloko-header-section-3']}).text   \n",
    "        \n",
    "        except AttributeError:\n",
    "            vacancy_salary = 'З/п не указана'\n",
    "\n",
    "        if vacancy_salary == 'З/п не указана':\n",
    "            vacancy_dict[vacancy_name] = {\n",
    "                'link' : vacancy_body[i].find('a')['href'],\n",
    "                'salary' : vacancy_salary,\n",
    "                'employer' : vacancy_employer.replace('\\xa0', ' '),    \n",
    "            }\n",
    "        else:\n",
    "            split_salary = define_salary(vacancy_salary.replace('\\u202f', ''))\n",
    "    \n",
    "            vacancy_dict[vacancy_name] = {\n",
    "                'link' : vacancy_body[i].find('a')['href'],\n",
    "                'salary' : {'min': split_salary[0], 'max': split_salary[1], 'валюта': split_salary[2]},\n",
    "                'employer' : vacancy_employer.replace('\\xa0', ' '),\n",
    "         \n",
    "            }\n",
    "\n",
    "print(len(vacancy_dict))\n",
    "\n",
    "with open('vacancy_from_HH.json', 'w') as fp:\n",
    "    json.dump(vacancy_dict, fp, indent=2, ensure_ascii=False)\n",
    "\n",
    "vacancy_dict"
   ]
  }
 ],
 "metadata": {
  "kernelspec": {
   "display_name": "Python 3 (ipykernel)",
   "language": "python",
   "name": "python3"
  },
  "language_info": {
   "codemirror_mode": {
    "name": "ipython",
    "version": 3
   },
   "file_extension": ".py",
   "mimetype": "text/x-python",
   "name": "python",
   "nbconvert_exporter": "python",
   "pygments_lexer": "ipython3",
   "version": "3.9.12"
  }
 },
 "nbformat": 4,
 "nbformat_minor": 5
}
